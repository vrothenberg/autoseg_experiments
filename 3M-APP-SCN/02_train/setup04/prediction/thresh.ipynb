{
 "cells": [
  {
   "cell_type": "code",
   "execution_count": 8,
   "metadata": {},
   "outputs": [
    {
     "name": "stdout",
     "output_type": "stream",
     "text": [
      "[0.0005 0.001  0.0015 0.002  0.0025 0.003  0.0035 0.004  0.0045 0.005\n",
      " 0.0055 0.006  0.0065 0.007  0.0075 0.008  0.0085 0.009  0.0095 0.01\n",
      " 0.0105 0.011  0.0115 0.012  0.0125 0.013  0.0135 0.014  0.0145 0.015\n",
      " 0.0155 0.016  0.0165 0.017  0.0175 0.018  0.0185 0.019  0.0195]\n",
      "file_5\n",
      "file_10\n",
      "file_15\n",
      "file_20\n",
      "file_25\n",
      "file_30\n",
      "file_35\n",
      "file_40\n",
      "file_45\n",
      "file_50\n",
      "file_55\n",
      "file_60\n",
      "file_65\n",
      "file_70\n",
      "file_75\n",
      "file_80\n",
      "file_85\n",
      "file_90\n",
      "file_95\n",
      "file_100\n",
      "file_105\n",
      "file_110\n",
      "file_115\n",
      "file_120\n",
      "file_125\n",
      "file_130\n",
      "file_135\n",
      "file_140\n",
      "file_145\n",
      "file_150\n",
      "file_155\n",
      "file_160\n",
      "file_165\n",
      "file_170\n",
      "file_175\n",
      "file_180\n",
      "file_185\n",
      "file_190\n",
      "file_195\n"
     ]
    }
   ],
   "source": [
    "import numpy as np\n",
    "thresholds = list(np.arange(\n",
    "        0.0005,\n",
    "        0.02,\n",
    "        0.0005))\n",
    "thresholds = np.round(thresholds, 4)\n",
    "print(thresholds)\n",
    "\n",
    "for thresh in thresholds:\n",
    "  print(f\"file_{int(thresh*10000)}\")"
   ]
  },
  {
   "cell_type": "code",
   "execution_count": null,
   "metadata": {},
   "outputs": [],
   "source": []
  }
 ],
 "metadata": {
  "kernelspec": {
   "display_name": "lsd_new",
   "language": "python",
   "name": "python3"
  },
  "language_info": {
   "codemirror_mode": {
    "name": "ipython",
    "version": 3
   },
   "file_extension": ".py",
   "mimetype": "text/x-python",
   "name": "python",
   "nbconvert_exporter": "python",
   "pygments_lexer": "ipython3",
   "version": "3.10.12"
  },
  "orig_nbformat": 4
 },
 "nbformat": 4,
 "nbformat_minor": 2
}
