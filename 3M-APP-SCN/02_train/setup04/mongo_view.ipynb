{
 "cells": [
  {
   "cell_type": "code",
   "execution_count": 6,
   "metadata": {},
   "outputs": [
    {
     "name": "stdout",
     "output_type": "stream",
     "text": [
      "['meta', 'nodes', 'edges', 'blocks_extracted']\n"
     ]
    }
   ],
   "source": [
    "from pymongo import MongoClient\n",
    "from datetime import datetime\n",
    "\n",
    "# Initialize the client\n",
    "\n",
    "client = MongoClient('mongodb://localhost:27017/')\n",
    "\n",
    "# Choose the database\n",
    "db = client['mongo_lsd']\n",
    "\n",
    "collection_list = db.list_collection_names()\n",
    "print(collection_list)\n"
   ]
  },
  {
   "cell_type": "code",
   "execution_count": 10,
   "metadata": {},
   "outputs": [
    {
     "name": "stdout",
     "output_type": "stream",
     "text": [
      "0\n"
     ]
    }
   ],
   "source": [
    "\n",
    "# Choose the collection\n",
    "collection = db['blocks_extracted']\n",
    "\n",
    "# Fetch all documents\n",
    "all_documents = collection.find()\n",
    "\n",
    "print(collection.count_documents({}))\n",
    "\n",
    "# Print all documents\n",
    "for document in all_documents:\n",
    "  print(document)\n",
    "  break\n"
   ]
  },
  {
   "cell_type": "code",
   "execution_count": 7,
   "metadata": {},
   "outputs": [
    {
     "name": "stdout",
     "output_type": "stream",
     "text": [
      "1\n",
      "{'_id': ObjectId('65bd8fbc7fd2b9fb8153ed1e'), 'directed': False}\n"
     ]
    }
   ],
   "source": [
    "# Choose the collection\n",
    "collection = db['meta']\n",
    "\n",
    "# Fetch all documents\n",
    "all_documents = collection.find()\n",
    "\n",
    "print(collection.count_documents({}))\n",
    "\n",
    "# Print all documents\n",
    "for document in all_documents:\n",
    "  print(document)\n",
    "  break"
   ]
  },
  {
   "cell_type": "code",
   "execution_count": 5,
   "metadata": {},
   "outputs": [
    {
     "name": "stdout",
     "output_type": "stream",
     "text": [
      "0\n"
     ]
    }
   ],
   "source": [
    "\n",
    "# # Choose the collection\n",
    "# collection = db['blocks_extracted']\n",
    "\n",
    "# # Fetch all documents\n",
    "# all_documents = collection.find()\n",
    "\n",
    "# print(collection.count_documents({}))\n",
    "\n",
    "# # Print all documents\n",
    "# for document in all_documents:\n",
    "#   print(document)\n",
    "#   break\n"
   ]
  },
  {
   "cell_type": "code",
   "execution_count": 8,
   "metadata": {},
   "outputs": [
    {
     "name": "stdout",
     "output_type": "stream",
     "text": [
      "25046861\n",
      "{'_id': ObjectId('65bd92b87fd2b9fb819bed3b'), 'u': 1506521875, 'v': 1506521881, 'merge_score': 0.904296875, 'agglomerated': True}\n"
     ]
    }
   ],
   "source": [
    "# Collection should be populated after agglomerate_blockwise_mongo.py\n",
    "# Choose the collection\n",
    "collection = db['edges_hist_quant_75']\n",
    "\n",
    "print(collection.count_documents({}))\n",
    "\n",
    "# Fetch all documents\n",
    "all_documents = collection.find()\n",
    "\n",
    "# Print all documents\n",
    "for document in all_documents:\n",
    "  print(document)\n",
    "  break"
   ]
  },
  {
   "cell_type": "code",
   "execution_count": 3,
   "metadata": {},
   "outputs": [],
   "source": [
    "# List of collections to drop\n",
    "collections_to_drop = ['edges', 'nodes', 'meta', 'edges_hist_quant_75', 'blocks_extracted']\n",
    "\n",
    "# Iterate through the list and drop each collection\n",
    "for collection_name in collections_to_drop:\n",
    "    db[collection_name].drop()"
   ]
  },
  {
   "cell_type": "code",
   "execution_count": null,
   "metadata": {},
   "outputs": [],
   "source": []
  }
 ],
 "metadata": {
  "kernelspec": {
   "display_name": "lsd_new",
   "language": "python",
   "name": "python3"
  },
  "language_info": {
   "codemirror_mode": {
    "name": "ipython",
    "version": 3
   },
   "file_extension": ".py",
   "mimetype": "text/x-python",
   "name": "python",
   "nbconvert_exporter": "python",
   "pygments_lexer": "ipython3",
   "version": "3.10.12"
  },
  "orig_nbformat": 4
 },
 "nbformat": 4,
 "nbformat_minor": 2
}
