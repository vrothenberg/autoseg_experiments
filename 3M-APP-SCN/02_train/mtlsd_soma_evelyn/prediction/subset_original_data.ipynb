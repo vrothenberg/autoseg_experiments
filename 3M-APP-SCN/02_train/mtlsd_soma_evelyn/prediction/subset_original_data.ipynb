{
 "cells": [
  {
   "cell_type": "code",
   "execution_count": 4,
   "metadata": {},
   "outputs": [],
   "source": [
    "import zarr\n",
    "import numpy as np\n",
    "\n",
    "# Load the original Zarr dataset\n",
    "input_path = '/data/base/3M-APP-SCN/01_data/SCN_DL_12AM_VL.zarr'\n",
    "data = zarr.open(input_path, mode='r+')\n",
    "\n",
    "raw_data = data['raw']\n",
    "\n",
    "# Subset the data\n",
    "subset_data = raw_data[1200:1600, 1500:3000, 1500:3000]\n",
    "\n",
    "data['raw-1500'] = subset_data\n"
   ]
  },
  {
   "cell_type": "code",
   "execution_count": 5,
   "metadata": {},
   "outputs": [],
   "source": [
    "\n",
    "\n",
    "labels_data = data['labels']\n",
    "\n",
    "# Subset the data\n",
    "subset_data = labels_data[1200:1600, 1500:3000, 1500:3000]\n",
    "\n",
    "data['labels-1500'] = subset_data\n"
   ]
  },
  {
   "cell_type": "code",
   "execution_count": null,
   "metadata": {},
   "outputs": [],
   "source": [
    "subset_data"
   ]
  }
 ],
 "metadata": {
  "kernelspec": {
   "display_name": "lsd_new",
   "language": "python",
   "name": "python3"
  },
  "language_info": {
   "codemirror_mode": {
    "name": "ipython",
    "version": 3
   },
   "file_extension": ".py",
   "mimetype": "text/x-python",
   "name": "python",
   "nbconvert_exporter": "python",
   "pygments_lexer": "ipython3",
   "version": "3.10.12"
  }
 },
 "nbformat": 4,
 "nbformat_minor": 2
}
