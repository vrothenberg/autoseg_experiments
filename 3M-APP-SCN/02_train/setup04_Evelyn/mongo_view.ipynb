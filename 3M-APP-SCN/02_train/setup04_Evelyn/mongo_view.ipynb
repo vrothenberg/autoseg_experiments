{
 "cells": [
  {
   "cell_type": "code",
   "execution_count": 18,
   "metadata": {},
   "outputs": [
    {
     "name": "stdout",
     "output_type": "stream",
     "text": [
      "['blocks_extracted', 'edges', 'meta', 'edges_hist_quant_75', 'nodes']\n"
     ]
    }
   ],
   "source": [
    "from pymongo import MongoClient\n",
    "from datetime import datetime\n",
    "\n",
    "# Initialize the client\n",
    "\n",
    "client = MongoClient('mongodb://localhost:27017/')\n",
    "\n",
    "# Choose the database\n",
    "db = client['mongo_lsd']\n",
    "\n",
    "collection_list = db.list_collection_names()\n",
    "print(collection_list)\n"
   ]
  },
  {
   "cell_type": "code",
   "execution_count": 16,
   "metadata": {},
   "outputs": [
    {
     "name": "stdout",
     "output_type": "stream",
     "text": [
      "878681\n",
      "{'_id': ObjectId('679aa6fd91d403cb905652d0'), 'id': 529218831, 'center_z': 0.0, 'center_y': 2039.2964824120604, 'center_x': 19647.587939698493}\n",
      "{'_id': ObjectId('679aa6fd91d403cb905652d1'), 'id': 529218832, 'center_z': 0.0, 'center_y': 2160.631332813718, 'center_x': 19830.155884645363}\n",
      "{'_id': ObjectId('679aa6fd91d403cb905652d2'), 'id': 529218835, 'center_z': 0.0, 'center_y': 2250.7246376811595, 'center_x': 19620.289855072464}\n",
      "{'_id': ObjectId('679aa6fd91d403cb905652d3'), 'id': 529218839, 'center_z': 0.0, 'center_y': 2471.705426356589, 'center_x': 19798.248062015504}\n",
      "{'_id': ObjectId('679aa6fd91d403cb905652d4'), 'id': 529218840, 'center_z': 0.0, 'center_y': 2375.294117647059, 'center_x': 19973.823529411766}\n"
     ]
    }
   ],
   "source": [
    "\n",
    "# Choose the collection\n",
    "collection = db['nodes']\n",
    "\n",
    "# Fetch all documents\n",
    "all_documents = collection.find()\n",
    "\n",
    "print(collection.count_documents({}))\n",
    "\n",
    "# Print all documents\n",
    "for document in all_documents[:5]:\n",
    "  print(document)\n",
    "\n"
   ]
  },
  {
   "cell_type": "code",
   "execution_count": 15,
   "metadata": {},
   "outputs": [
    {
     "data": {
      "text/plain": [
       "{'_id': ObjectId('679aa6ff91d403cb90565b4a'),\n",
       " 'id': 3,\n",
       " 'center_z': 1271.6984846773282,\n",
       " 'center_y': 1061.961611825649,\n",
       " 'center_x': 1062.3168008778866}"
      ]
     },
     "execution_count": 15,
     "metadata": {},
     "output_type": "execute_result"
    }
   ],
   "source": [
    "target_id_value = 3\n",
    "document = collection.find_one({\"id\": target_id_value})\n",
    "document"
   ]
  },
  {
   "cell_type": "code",
   "execution_count": 22,
   "metadata": {},
   "outputs": [
    {
     "name": "stdout",
     "output_type": "stream",
     "text": [
      "4883560\n",
      "{'_id': ObjectId('679aa89591d403cb9063da1c'), 'u': 105106213, 'v': 105106221, 'merge_score': 0.873046875, 'agglomerated': True}\n",
      "{'_id': ObjectId('679aa89591d403cb9063da1d'), 'u': 105106213, 'v': 105106224, 'merge_score': 0.994140625, 'agglomerated': True}\n",
      "{'_id': ObjectId('679aa89591d403cb9063da1e'), 'u': 105106213, 'v': 105106460, 'merge_score': 0.990234375, 'agglomerated': True}\n",
      "{'_id': ObjectId('679aa89591d403cb9063da1f'), 'u': 105106213, 'v': 105106473, 'merge_score': 0.994140625, 'agglomerated': True}\n",
      "{'_id': ObjectId('679aa89591d403cb9063da20'), 'u': 105106192, 'v': 105106215, 'merge_score': 0.837890625, 'agglomerated': True}\n"
     ]
    }
   ],
   "source": [
    "\n",
    "# Choose the collection\n",
    "collection = db['edges_hist_quant_75']\n",
    "\n",
    "# Fetch all documents\n",
    "all_documents = collection.find()\n",
    "\n",
    "print(collection.count_documents({}))\n",
    "\n",
    "# Print all documents\n",
    "for document in all_documents[:5]:\n",
    "  print(document)\n",
    "\n"
   ]
  },
  {
   "cell_type": "code",
   "execution_count": 10,
   "metadata": {},
   "outputs": [
    {
     "name": "stdout",
     "output_type": "stream",
     "text": [
      "1\n",
      "{'_id': ObjectId('6791851c99d232b22f241afa'), 'directed': False}\n"
     ]
    }
   ],
   "source": [
    "# Choose the collection\n",
    "collection = db['meta']\n",
    "\n",
    "# Fetch all documents\n",
    "all_documents = collection.find()\n",
    "\n",
    "print(collection.count_documents({}))\n",
    "\n",
    "# Print all documents\n",
    "for document in all_documents:\n",
    "  print(document)\n",
    "  break"
   ]
  },
  {
   "cell_type": "code",
   "execution_count": 9,
   "metadata": {},
   "outputs": [
    {
     "name": "stdout",
     "output_type": "stream",
     "text": [
      "3454\n"
     ]
    }
   ],
   "source": [
    "collection = db['nodes']\n",
    "\n",
    "print(collection.count_documents({}))"
   ]
  },
  {
   "cell_type": "code",
   "execution_count": 8,
   "metadata": {},
   "outputs": [
    {
     "name": "stdout",
     "output_type": "stream",
     "text": [
      "19820\n",
      "{'_id': ObjectId('679279e84174271b03719d37'), 'u': 38723354, 'v': 38723367, 'merge_score': 0.947265625, 'agglomerated': True}\n"
     ]
    }
   ],
   "source": [
    "# Collection should be populated after agglomerate_blockwise_mongo.py\n",
    "# Choose the collection\n",
    "collection = db['edges_hist_quant_75']\n",
    "\n",
    "print(collection.count_documents({}))\n",
    "\n",
    "# Fetch all documents\n",
    "all_documents = collection.find()\n",
    "\n",
    "# Print all documents\n",
    "for document in all_documents:\n",
    "  print(document)\n",
    "  break"
   ]
  },
  {
   "cell_type": "code",
   "execution_count": 3,
   "metadata": {},
   "outputs": [],
   "source": [
    "# List of collections to drop\n",
    "collections_to_drop = ['edges', 'nodes', 'meta', 'edges_hist_quant_75', 'blocks_extracted']\n",
    "\n",
    "# Iterate through the list and drop each collection\n",
    "for collection_name in collections_to_drop:\n",
    "    db[collection_name].drop()"
   ]
  },
  {
   "cell_type": "code",
   "execution_count": null,
   "metadata": {},
   "outputs": [],
   "source": []
  }
 ],
 "metadata": {
  "kernelspec": {
   "display_name": "lsd_new",
   "language": "python",
   "name": "python3"
  },
  "language_info": {
   "codemirror_mode": {
    "name": "ipython",
    "version": 3
   },
   "file_extension": ".py",
   "mimetype": "text/x-python",
   "name": "python",
   "nbconvert_exporter": "python",
   "pygments_lexer": "ipython3",
   "version": "3.10.12"
  },
  "orig_nbformat": 4
 },
 "nbformat": 4,
 "nbformat_minor": 2
}
