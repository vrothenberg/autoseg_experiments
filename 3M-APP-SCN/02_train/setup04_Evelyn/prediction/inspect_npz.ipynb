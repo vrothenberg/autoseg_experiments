{
 "cells": [
  {
   "cell_type": "code",
   "execution_count": 1,
   "metadata": {},
   "outputs": [],
   "source": [
    "import os \n",
    "import numpy as np"
   ]
  },
  {
   "cell_type": "code",
   "execution_count": 13,
   "metadata": {},
   "outputs": [
    {
     "data": {
      "text/plain": [
       "['seg_edges_hist_quant_75_3000.npz',\n",
       " 'seg_edges_hist_quant_75_1000.npz',\n",
       " 'seg_edges_hist_quant_75_5000.npz']"
      ]
     },
     "execution_count": 13,
     "metadata": {},
     "output_type": "execute_result"
    }
   ],
   "source": [
    "npz_dir = \"/data/base/3M-APP-SCN/02_train/setup04_Evelyn/prediction/CompImBio800M.zarr/luts/fragment_segment\"\n",
    "npz_files = os.listdir(npz_dir)\n",
    "npz_files"
   ]
  },
  {
   "cell_type": "code",
   "execution_count": 14,
   "metadata": {},
   "outputs": [
    {
     "name": "stdout",
     "output_type": "stream",
     "text": [
      "seg_edges_hist_quant_75_3000.npz\n",
      "[[  36879366   64538883   18439683 ... 1705671131 1233615497 3933183892]\n",
      " [         0         11          2 ...     878678     878679     878680]]\n",
      "878681\n",
      "354834\n",
      "seg_edges_hist_quant_75_1000.npz\n",
      "[[  36879366   64538883   18439683 ... 1705671131 1233615497 3933183892]\n",
      " [         0          1          2 ...     878678     878679     878680]]\n",
      "878681\n",
      "397085\n",
      "seg_edges_hist_quant_75_5000.npz\n",
      "[[  36879366   64538883   18439683 ... 1705671131 1233615497 3933183892]\n",
      " [         0         11          2 ...     878678     878679     878680]]\n",
      "878681\n",
      "319069\n"
     ]
    }
   ],
   "source": [
    "for npz_file in npz_files:\n",
    "    data = np.load(os.path.join(npz_dir, npz_file))\n",
    "    print(npz_file)\n",
    "    print(data['fragment_segment_lut'])\n",
    "    print(len(np.unique(data['fragment_segment_lut'][0])))\n",
    "    print(len(np.unique(data['fragment_segment_lut'][1])))"
   ]
  },
  {
   "cell_type": "code",
   "execution_count": 7,
   "metadata": {},
   "outputs": [
    {
     "data": {
      "text/plain": [
       "array([[38723354, 38723361, 38723362, ..., 38732174, 38732178, 38732184],\n",
       "       [       0,        1,        2, ...,     2003,     3452,     2987]],\n",
       "      dtype=uint64)"
      ]
     },
     "execution_count": 7,
     "metadata": {},
     "output_type": "execute_result"
    }
   ],
   "source": [
    "npz_file['fragment_segment_lut']"
   ]
  }
 ],
 "metadata": {
  "kernelspec": {
   "display_name": "lsd_new",
   "language": "python",
   "name": "python3"
  },
  "language_info": {
   "codemirror_mode": {
    "name": "ipython",
    "version": 3
   },
   "file_extension": ".py",
   "mimetype": "text/x-python",
   "name": "python",
   "nbconvert_exporter": "python",
   "pygments_lexer": "ipython3",
   "version": "3.10.12"
  }
 },
 "nbformat": 4,
 "nbformat_minor": 2
}
