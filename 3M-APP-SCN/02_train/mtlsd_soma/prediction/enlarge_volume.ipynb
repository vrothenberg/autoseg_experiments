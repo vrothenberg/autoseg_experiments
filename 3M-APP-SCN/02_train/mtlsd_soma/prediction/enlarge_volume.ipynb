{
 "cells": [
  {
   "cell_type": "code",
   "execution_count": 2,
   "metadata": {},
   "outputs": [
    {
     "name": "stdout",
     "output_type": "stream",
     "text": [
      "Existing datasets: ['segmentation_0.02_xyz', 'segmentation_0.04_xyz', 'segmentation_0.06_xyz', 'segmentation_0.08_xyz', 'segmentation_0.12_xyz', 'segmentation_0.14_xyz', 'segmentation_0.16_xyz', 'segmentation_0.18_xyz', 'segmentation_0.22_xyz', 'segmentation_0.24_xyz', 'segmentation_0.26_xyz', 'segmentation_0.28_xyz', 'segmentation_0.32_xyz', 'segmentation_0.34_xyz', 'segmentation_0.36_xyz', 'segmentation_0.38_xyz', 'segmentation_0.42_xyz', 'segmentation_0.44_xyz', 'segmentation_0.46_xyz', 'segmentation_0.48_xyz', 'segmentation_0.4_xyz', 'segmentation_0.52_xyz', 'segmentation_0.54_xyz', 'segmentation_0.56_xyz', 'segmentation_0.58_xyz', 'segmentation_0.62_xyz', 'segmentation_0.64_xyz', 'segmentation_0.66_xyz', 'segmentation_0.68_xyz', 'segmentation_0.72_xyz', 'segmentation_0.74_xyz', 'segmentation_0.76_xyz', 'segmentation_0.78_xyz', 'segmentation_0.82_xyz', 'segmentation_0.84_xyz', 'segmentation_0.86_xyz', 'segmentation_0.88_xyz', 'segmentation_0.92_xyz', 'segmentation_0.94_xyz', 'segmentation_0.96_xyz', 'segmentation_0.98_xyz']\n"
     ]
    }
   ],
   "source": [
    "import os\n",
    "import zarr\n",
    "\n",
    "data = zarr.open('/data/base/3M-APP-SCN/02_train/mtlsd_soma/prediction/SCN_DL_12AM_VL_400k_filtered.zarr', mode='r')\n",
    "existing_datasets = list(data.keys())\n",
    "print(\"Existing datasets:\", existing_datasets)"
   ]
  },
  {
   "cell_type": "code",
   "execution_count": 3,
   "metadata": {},
   "outputs": [
    {
     "name": "stdout",
     "output_type": "stream",
     "text": [
      "Subvolume from segmentation_0.02_xyz has been successfully inserted into segmentation_0.02_xyz_full.\n",
      "Subvolume from segmentation_0.04_xyz has been successfully inserted into segmentation_0.04_xyz_full.\n",
      "Subvolume from segmentation_0.06_xyz has been successfully inserted into segmentation_0.06_xyz_full.\n",
      "Subvolume from segmentation_0.08_xyz has been successfully inserted into segmentation_0.08_xyz_full.\n",
      "Subvolume from segmentation_0.12_xyz has been successfully inserted into segmentation_0.12_xyz_full.\n",
      "Subvolume from segmentation_0.14_xyz has been successfully inserted into segmentation_0.14_xyz_full.\n",
      "Subvolume from segmentation_0.16_xyz has been successfully inserted into segmentation_0.16_xyz_full.\n",
      "Subvolume from segmentation_0.18_xyz has been successfully inserted into segmentation_0.18_xyz_full.\n",
      "Subvolume from segmentation_0.22_xyz has been successfully inserted into segmentation_0.22_xyz_full.\n",
      "Subvolume from segmentation_0.24_xyz has been successfully inserted into segmentation_0.24_xyz_full.\n",
      "Subvolume from segmentation_0.26_xyz has been successfully inserted into segmentation_0.26_xyz_full.\n",
      "Subvolume from segmentation_0.28_xyz has been successfully inserted into segmentation_0.28_xyz_full.\n",
      "Subvolume from segmentation_0.32_xyz has been successfully inserted into segmentation_0.32_xyz_full.\n",
      "Subvolume from segmentation_0.34_xyz has been successfully inserted into segmentation_0.34_xyz_full.\n",
      "Subvolume from segmentation_0.36_xyz has been successfully inserted into segmentation_0.36_xyz_full.\n",
      "Subvolume from segmentation_0.38_xyz has been successfully inserted into segmentation_0.38_xyz_full.\n",
      "Subvolume from segmentation_0.42_xyz has been successfully inserted into segmentation_0.42_xyz_full.\n",
      "Subvolume from segmentation_0.44_xyz has been successfully inserted into segmentation_0.44_xyz_full.\n",
      "Subvolume from segmentation_0.46_xyz has been successfully inserted into segmentation_0.46_xyz_full.\n",
      "Subvolume from segmentation_0.48_xyz has been successfully inserted into segmentation_0.48_xyz_full.\n",
      "Subvolume from segmentation_0.4_xyz has been successfully inserted into segmentation_0.4_xyz_full.\n",
      "Subvolume from segmentation_0.52_xyz has been successfully inserted into segmentation_0.52_xyz_full.\n",
      "Subvolume from segmentation_0.54_xyz has been successfully inserted into segmentation_0.54_xyz_full.\n",
      "Subvolume from segmentation_0.56_xyz has been successfully inserted into segmentation_0.56_xyz_full.\n",
      "Subvolume from segmentation_0.58_xyz has been successfully inserted into segmentation_0.58_xyz_full.\n",
      "Subvolume from segmentation_0.62_xyz has been successfully inserted into segmentation_0.62_xyz_full.\n",
      "Subvolume from segmentation_0.64_xyz has been successfully inserted into segmentation_0.64_xyz_full.\n",
      "Subvolume from segmentation_0.66_xyz has been successfully inserted into segmentation_0.66_xyz_full.\n",
      "Subvolume from segmentation_0.68_xyz has been successfully inserted into segmentation_0.68_xyz_full.\n",
      "Subvolume from segmentation_0.72_xyz has been successfully inserted into segmentation_0.72_xyz_full.\n",
      "Subvolume from segmentation_0.74_xyz has been successfully inserted into segmentation_0.74_xyz_full.\n",
      "Subvolume from segmentation_0.76_xyz has been successfully inserted into segmentation_0.76_xyz_full.\n",
      "Subvolume from segmentation_0.78_xyz has been successfully inserted into segmentation_0.78_xyz_full.\n",
      "Subvolume from segmentation_0.82_xyz has been successfully inserted into segmentation_0.82_xyz_full.\n",
      "Subvolume from segmentation_0.84_xyz has been successfully inserted into segmentation_0.84_xyz_full.\n",
      "Subvolume from segmentation_0.86_xyz has been successfully inserted into segmentation_0.86_xyz_full.\n",
      "Subvolume from segmentation_0.88_xyz has been successfully inserted into segmentation_0.88_xyz_full.\n",
      "Subvolume from segmentation_0.92_xyz has been successfully inserted into segmentation_0.92_xyz_full.\n",
      "Subvolume from segmentation_0.94_xyz has been successfully inserted into segmentation_0.94_xyz_full.\n",
      "Subvolume from segmentation_0.96_xyz has been successfully inserted into segmentation_0.96_xyz_full.\n",
      "Subvolume from segmentation_0.98_xyz has been successfully inserted into segmentation_0.98_xyz_full.\n",
      "All subvolumes have been processed and inserted into the new full volume datasets.\n"
     ]
    }
   ],
   "source": [
    "\n",
    "out = zarr.open('/data/base/3M-APP-SCN/02_train/mtlsd_soma/prediction/SCN_DL_12AM_VL_400k_xyz.zarr', mode='a')\n",
    "\n",
    "# Define the shape of the full volume\n",
    "full_shape = (8000, 6000, 1604)\n",
    "\n",
    "# Define the coordinates of the subvolume within the full volume\n",
    "x_start, x_end = 1500, 3000\n",
    "y_start, y_end = 1500, 3000\n",
    "z_start, z_end = 1200, 1600\n",
    "\n",
    "# Process each existing dataset and create the corresponding new full volume dataset\n",
    "for original_dataset_name in existing_datasets:\n",
    "    # Load the original subvolume data\n",
    "    subvolume = data[original_dataset_name]\n",
    "\n",
    "    # Create a new dataset name by appending '_full'\n",
    "    new_dataset_name = original_dataset_name + '_full'\n",
    "\n",
    "    # Create a new dataset for the full volume, initially filled with zeros\n",
    "    full_volume = out.create_dataset(new_dataset_name, shape=full_shape, dtype=subvolume.dtype, fill_value=0)\n",
    "\n",
    "    # Insert the subvolume data into the appropriate slice of the new full volume dataset\n",
    "    full_volume[x_start:x_end, y_start:y_end, z_start:z_end] = subvolume[:]\n",
    "\n",
    "    print(f\"Subvolume from {original_dataset_name} has been successfully inserted into {new_dataset_name}.\")\n",
    "\n",
    "print(\"All subvolumes have been processed and inserted into the new full volume datasets.\")"
   ]
  },
  {
   "cell_type": "code",
   "execution_count": null,
   "metadata": {},
   "outputs": [],
   "source": []
  }
 ],
 "metadata": {
  "kernelspec": {
   "display_name": "lsd_new",
   "language": "python",
   "name": "python3"
  },
  "language_info": {
   "codemirror_mode": {
    "name": "ipython",
    "version": 3
   },
   "file_extension": ".py",
   "mimetype": "text/x-python",
   "name": "python",
   "nbconvert_exporter": "python",
   "pygments_lexer": "ipython3",
   "version": "3.10.12"
  }
 },
 "nbformat": 4,
 "nbformat_minor": 2
}
